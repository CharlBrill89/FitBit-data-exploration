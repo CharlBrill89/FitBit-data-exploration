{
  "nbformat": 4,
  "nbformat_minor": 0,
  "metadata": {
    "colab": {
      "name": "Fitbit sleep score.ipynb",
      "provenance": [],
      "authorship_tag": "ABX9TyObopFCJtEEW0CwhnWCSMM9",
      "include_colab_link": true
    },
    "kernelspec": {
      "name": "python3",
      "display_name": "Python 3"
    }
  },
  "cells": [
    {
      "cell_type": "markdown",
      "metadata": {
        "id": "view-in-github",
        "colab_type": "text"
      },
      "source": [
        "<a href=\"https://colab.research.google.com/github/CharlBrill89/FitBit-data-exploration/blob/master/Fitbit_sleep_score.ipynb\" target=\"_parent\"><img src=\"https://colab.research.google.com/assets/colab-badge.svg\" alt=\"Open In Colab\"/></a>"
      ]
    },
    {
      "cell_type": "markdown",
      "metadata": {
        "id": "JCA8_MYqYRtz",
        "colab_type": "text"
      },
      "source": [
        "# How to Obtain and Analyse Fitbit Sleep Scores\n",
        "Jonas benner - Medium\n",
        "https://towardsdatascience.com/how-to-obtain-and-analyse-fitbit-sleep-scores-a739d7c8df85"
      ]
    },
    {
      "cell_type": "code",
      "metadata": {
        "id": "8ujIdsXmX_YF",
        "colab_type": "code",
        "colab": {}
      },
      "source": [
        ""
      ],
      "execution_count": null,
      "outputs": []
    }
  ]
}